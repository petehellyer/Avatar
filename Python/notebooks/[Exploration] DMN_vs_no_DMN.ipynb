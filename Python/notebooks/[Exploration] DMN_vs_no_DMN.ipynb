{
 "cells": [
  {
   "cell_type": "code",
   "execution_count": 1,
   "metadata": {},
   "outputs": [],
   "source": [
    "import os\n",
    "import pdb\n",
    "from scipy import io, stats\n",
    "import numpy as np\n",
    "import pickle\n",
    "import matplotlib.pyplot as plt\n",
    "import seaborn as sns\n",
    "%matplotlib inline\n",
    "sns.set_style(\"darkgrid\")"
   ]
  },
  {
   "cell_type": "markdown",
   "metadata": {},
   "source": [
    "This notebook compares if there is a difference in the mean of:\n",
    "1. **correlation between ws and the distance from the wall** between the group with DMN and those without DMN\n",
    "2. **entropy of the distance from the wall**"
   ]
  },
  {
   "cell_type": "code",
   "execution_count": 41,
   "metadata": {},
   "outputs": [],
   "source": [
    "# load the behavioural data\n",
    "path = '../Output/dynamic_analysis/with_behaviour/ddw_ws_corr'\n",
    "\n",
    "with open(os.path.join(path, 'without_DMN', 'behaviour_analysis.pickle'), 'rb') as fh:\n",
    "    no_dmn = pickle.load(fh)\n",
    "    \n",
    "with open(os.path.join(path, 'with_DMN', 'behaviour_analysis.pickle'), 'rb') as fh:\n",
    "    dmn = pickle.load(fh)"
   ]
  },
  {
   "cell_type": "markdown",
   "metadata": {},
   "source": [
    "## 1. Correlation DFW-ws"
   ]
  },
  {
   "cell_type": "code",
   "execution_count": 4,
   "metadata": {},
   "outputs": [],
   "source": [
    "dmn_corr_ws_mean_nodes = [dmn[i]['correlation_ws_mean_nodes'] for i in np.arange(0, 1, .02)]\n",
    "no_dmn_corr_ws_mean_nodes = [no_dmn[i]['correlation_ws_mean_nodes'] for i in np.arange(0, 1, .02)]"
   ]
  },
  {
   "cell_type": "code",
   "execution_count": 6,
   "metadata": {},
   "outputs": [
    {
     "name": "stdout",
     "output_type": "stream",
     "text": [
      "6.74154285407 1.09113865524e-09\n"
     ]
    }
   ],
   "source": [
    "t1, p1 = stats.ttest_ind(dmn_corr_ws_mean_nodes, no_dmn_corr_ws_mean_nodes)\n",
    "print t1, p1"
   ]
  },
  {
   "cell_type": "code",
   "execution_count": 43,
   "metadata": {},
   "outputs": [
    {
     "name": "stdout",
     "output_type": "stream",
     "text": [
      "Mean: -0.25 -0.48\n",
      "Std: 0.16 0.18\n"
     ]
    }
   ],
   "source": [
    "print('Mean: %.02f %.02f' %(np.mean(dmn_corr_ws_mean_nodes), np.mean(no_dmn_corr_ws_mean_nodes)))\n",
    "print('Std: %.02f %.02f' %(np.std(dmn_corr_ws_mean_nodes), np.std(no_dmn_corr_ws_mean_nodes)))"
   ]
  },
  {
   "cell_type": "markdown",
   "metadata": {},
   "source": [
    "## 2. Entropy of the movement"
   ]
  },
  {
   "cell_type": "code",
   "execution_count": 10,
   "metadata": {},
   "outputs": [],
   "source": [
    "from scipy.stats import entropy"
   ]
  },
  {
   "cell_type": "code",
   "execution_count": 46,
   "metadata": {},
   "outputs": [],
   "source": [
    "dmn_distance_wall = [dmn[i]['distance_wall'] for i in np.arange(0, 1, .02)]\n",
    "no_dmn_distance_wall = [no_dmn[i]['distance_wall'] for i in np.arange(0, 1, .02)]\n",
    "# Calculate the entropy over the time points for each initial condition.\n",
    "dmn_entropy = [entropy(dmn_distance_wall[i]) for i in range(len(dmn_distance_wall))]\n",
    "no_dmn_entropy = [entropy(no_dmn_distance_wall[i]) for i in range(len(no_dmn_distance_wall))]\n"
   ]
  },
  {
   "cell_type": "code",
   "execution_count": 47,
   "metadata": {},
   "outputs": [
    {
     "name": "stdout",
     "output_type": "stream",
     "text": [
      "4.83938314077 4.85163910097e-06\n"
     ]
    }
   ],
   "source": [
    "t2, p2 = stats.ttest_ind(dmn_entropy, no_dmn_entropy)\n",
    "print t2, p2"
   ]
  },
  {
   "cell_type": "code",
   "execution_count": 48,
   "metadata": {},
   "outputs": [
    {
     "name": "stdout",
     "output_type": "stream",
     "text": [
      "Mean: 9.94 9.91\n",
      "Std: 0.03 0.05\n"
     ]
    }
   ],
   "source": [
    "print 'Mean: %.02f %.02f' %(np.mean(dmn_entropy), np.mean(no_dmn_entropy))\n",
    "print 'Std: %.02f %.02f' %(np.std(dmn_entropy), np.std(no_dmn_entropy))"
   ]
  },
  {
   "cell_type": "code",
   "execution_count": null,
   "metadata": {},
   "outputs": [],
   "source": []
  }
 ],
 "metadata": {
  "kernelspec": {
   "display_name": "Python 2",
   "language": "python",
   "name": "python2"
  },
  "language_info": {
   "codemirror_mode": {
    "name": "ipython",
    "version": 2
   },
   "file_extension": ".py",
   "mimetype": "text/x-python",
   "name": "python",
   "nbconvert_exporter": "python",
   "pygments_lexer": "ipython2",
   "version": "2.7.13"
  }
 },
 "nbformat": 4,
 "nbformat_minor": 2
}
