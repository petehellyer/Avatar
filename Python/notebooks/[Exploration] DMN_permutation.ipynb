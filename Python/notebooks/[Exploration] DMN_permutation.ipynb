{
 "cells": [
  {
   "cell_type": "markdown",
   "metadata": {},
   "source": [
    "Permutation of both DMN nodes"
   ]
  },
  {
   "cell_type": "code",
   "execution_count": 1,
   "metadata": {},
   "outputs": [],
   "source": [
    "import numpy as np\n",
    "import pickle\n",
    "import matplotlib.pyplot as plt\n",
    "import seaborn as sns\n",
    "%matplotlib inline\n",
    "sns.set_style(\"darkgrid\")\n",
    "from scipy import stats\n",
    "\n",
    "from bct.algorithms import degrees_und, community_louvain, distance_bin\n",
    "from tvb.datatypes import connectivity # this breaks the print statement"
   ]
  },
  {
   "cell_type": "code",
   "execution_count": 2,
   "metadata": {},
   "outputs": [],
   "source": [
    "def exclude_input_nodes_dmn(mylist, idx):\n",
    "    # node 15 is included in the analysis\n",
    "    input_nodes = [20, 21, 23]\n",
    "    # check if array has the dimension with all nodes\n",
    "    all_nodes = range(33) # range excludes the last value\n",
    "    assert len(all_nodes) == len(mylist)\n",
    "    # also delete the self-entry\n",
    "    input_nodes.append(idx)\n",
    "    \n",
    "    return np.delete(mylist, input_nodes) "
   ]
  },
  {
   "cell_type": "code",
   "execution_count": 3,
   "metadata": {},
   "outputs": [],
   "source": [
    "path = '../Output/dynamic_analysis/with_behaviour/with_homeostasis/dmn_permutation/dynamic_analysis_dmn_permutation.pickle'\n",
    "with open(path, 'rb') as fh:\n",
    "    dmn_permutation = pickle.load(fh)\n",
    "\n",
    "# get only the nodes of interes\n",
    "all_nodes = range(33)\n",
    "input_nodes = [20, 21, 23]\n",
    "nodes = np.delete(all_nodes, input_nodes)"
   ]
  },
  {
   "cell_type": "code",
   "execution_count": 4,
   "metadata": {},
   "outputs": [],
   "source": [
    "# load connectivity matrix\n",
    "conn = connectivity.Connectivity.from_file(source_file=\"connectivity_66.zip\")\n",
    "# returns the numbers of edges connected to each node\n",
    "deg = degrees_und(conn.weights)\n",
    "\n",
    "# community\n",
    "communities, q = community_louvain(conn.weights, gamma=1, seed=42)\n",
    "# get the number of communities and the number of nodes in each community\n",
    "n_communities = np.unique(communities)\n",
    "# Note: The first element is being ignored because n_communities starts from 1 and there are no module 0\n",
    "n_node_each_community = np.bincount(communities)[1:]\n",
    "# get the shortest path length between pairs of nodes\n",
    "path_length = distance_bin(conn.weights)"
   ]
  },
  {
   "cell_type": "code",
   "execution_count": 6,
   "metadata": {},
   "outputs": [
    {
     "data": {
      "text/plain": [
       "array([[ 0.,  3.,  2., ...,  3.,  3.,  3.],\n",
       "       [ 3.,  0.,  2., ...,  2.,  3.,  2.],\n",
       "       [ 2.,  2.,  0., ...,  2.,  3.,  2.],\n",
       "       ..., \n",
       "       [ 3.,  2.,  2., ...,  0.,  2.,  1.],\n",
       "       [ 3.,  3.,  3., ...,  2.,  0.,  2.],\n",
       "       [ 3.,  2.,  2., ...,  1.,  2.,  0.]])"
      ]
     },
     "execution_count": 6,
     "metadata": {},
     "output_type": "execute_result"
    }
   ],
   "source": [
    "path_length.shape\n",
    "path_length"
   ]
  },
  {
   "cell_type": "code",
   "execution_count": null,
   "metadata": {},
   "outputs": [],
   "source": [
    "dmn_permutation[1][2].keys()"
   ]
  },
  {
   "cell_type": "code",
   "execution_count": null,
   "metadata": {},
   "outputs": [],
   "source": [
    "dmn_permutation[1][5]['correlation_ws_single_nodes']"
   ]
  },
  {
   "cell_type": "code",
   "execution_count": null,
   "metadata": {},
   "outputs": [],
   "source": [
    "len(nodes)"
   ]
  },
  {
   "cell_type": "code",
   "execution_count": null,
   "metadata": {},
   "outputs": [],
   "source": [
    "nodes"
   ]
  },
  {
   "cell_type": "code",
   "execution_count": null,
   "metadata": {},
   "outputs": [],
   "source": [
    "dmn_permutation[0][2]['correlation_ws_single_nodes'].shape"
   ]
  },
  {
   "cell_type": "code",
   "execution_count": null,
   "metadata": {},
   "outputs": [],
   "source": [
    "import pdb\n",
    "results = {}\n",
    "\n",
    "# node1 corresponds to the TN node\n",
    "\n",
    "for node1 in nodes:\n",
    "    results[node1] = {}\n",
    "    corr1 = []\n",
    "    distanc1 = exclude_input_nodes_dmn(path_length[node1, :33], node1)\n",
    "    # get the correlation_ws_mean node values for the first node\n",
    "    # node2 is the TP node\n",
    "    for node2 in nodes:\n",
    "        if not node2 == node1: \n",
    "            corr1.append(dmn_permutation[node1][node2]['correlation_ws_mean_nodes'])\n",
    "    results[node1]['t'], results[node1]['p'] = stats.pearsonr(corr1, distanc1)"
   ]
  },
  {
   "cell_type": "code",
   "execution_count": null,
   "metadata": {},
   "outputs": [],
   "source": [
    "results"
   ]
  },
  {
   "cell_type": "markdown",
   "metadata": {},
   "source": [
    "## Mean activity over time"
   ]
  },
  {
   "cell_type": "code",
   "execution_count": null,
   "metadata": {},
   "outputs": [],
   "source": [
    "# TODO: There is one change on the python file called grid_search.py to save the mean of ws over each node.\n",
    "# It has however, not been calculated yet. I will see if I need to do it or not.\n",
    "# TODO: You will also need to adapt this code snipet to calculate what you want\n",
    "import pdb\n",
    "results_t = np.zeros((len(nodes), len(nodes)))\n",
    "results_p = np.zeros((len(nodes), len(nodes)))\n",
    "# node1 corresponds to the TN node\n",
    "for node1 in nodes:\n",
    "    distanc1 = exclude_input_nodes_dmn(path_length[node1, :33], node1)\n",
    "    # get the correlation_ws_mean node values for the first node\n",
    "    # node2 is the TP node\n",
    "    corr1 = [dmn_permutation[node1][node2]['correlation_ws_mean_nodes'] for node2 in nodes if not node2==node1]\n",
    "    \n",
    "    results_t[node1][node2], results_p[node1][node2] = stats.pearsonr(corr1, distanc1)"
   ]
  },
  {
   "cell_type": "code",
   "execution_count": null,
   "metadata": {},
   "outputs": [],
   "source": [
    "dmn_permutation[0][2]['mean_activity_over_time'].shape"
   ]
  },
  {
   "cell_type": "code",
   "execution_count": null,
   "metadata": {},
   "outputs": [],
   "source": [
    "corr1"
   ]
  },
  {
   "cell_type": "code",
   "execution_count": null,
   "metadata": {},
   "outputs": [],
   "source": [
    "distanc1"
   ]
  },
  {
   "cell_type": "code",
   "execution_count": null,
   "metadata": {},
   "outputs": [],
   "source": []
  }
 ],
 "metadata": {
  "kernelspec": {
   "display_name": "Python 2",
   "language": "python",
   "name": "python2"
  },
  "language_info": {
   "codemirror_mode": {
    "name": "ipython",
    "version": 2
   },
   "file_extension": ".py",
   "mimetype": "text/x-python",
   "name": "python",
   "nbconvert_exporter": "python",
   "pygments_lexer": "ipython2",
   "version": "2.7.13"
  }
 },
 "nbformat": 4,
 "nbformat_minor": 2
}
